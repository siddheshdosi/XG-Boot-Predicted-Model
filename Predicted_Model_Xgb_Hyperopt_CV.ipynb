{
 "cells": [
  {
   "cell_type": "code",
   "execution_count": 127,
   "metadata": {},
   "outputs": [],
   "source": [
    "import pandas as pd"
   ]
  },
  {
   "cell_type": "code",
   "execution_count": 128,
   "metadata": {},
   "outputs": [],
   "source": [
    "train_data = pd.read_excel('Data_Train.xlsx')\n",
    "test_data = pd.read_excel('Data_Test.xlsx')\n",
    "submission_data = pd.read_excel('Sample_Submission.xlsx')"
   ]
  },
  {
   "cell_type": "code",
   "execution_count": 129,
   "metadata": {},
   "outputs": [
    {
     "data": {
      "text/html": [
       "<div>\n",
       "<style scoped>\n",
       "    .dataframe tbody tr th:only-of-type {\n",
       "        vertical-align: middle;\n",
       "    }\n",
       "\n",
       "    .dataframe tbody tr th {\n",
       "        vertical-align: top;\n",
       "    }\n",
       "\n",
       "    .dataframe thead th {\n",
       "        text-align: right;\n",
       "    }\n",
       "</style>\n",
       "<table border=\"1\" class=\"dataframe\">\n",
       "  <thead>\n",
       "    <tr style=\"text-align: right;\">\n",
       "      <th></th>\n",
       "      <th>Restaurant</th>\n",
       "      <th>Location</th>\n",
       "      <th>Cuisines</th>\n",
       "      <th>Average_Cost</th>\n",
       "      <th>Minimum_Order</th>\n",
       "      <th>Rating</th>\n",
       "      <th>Votes</th>\n",
       "      <th>Reviews</th>\n",
       "      <th>Delivery_Time</th>\n",
       "    </tr>\n",
       "  </thead>\n",
       "  <tbody>\n",
       "    <tr>\n",
       "      <th>0</th>\n",
       "      <td>ID_6321</td>\n",
       "      <td>FTI College, Law College Road, Pune</td>\n",
       "      <td>Fast Food, Rolls, Burger, Salad, Wraps</td>\n",
       "      <td>₹200</td>\n",
       "      <td>₹50</td>\n",
       "      <td>3.5</td>\n",
       "      <td>12</td>\n",
       "      <td>4</td>\n",
       "      <td>30 minutes</td>\n",
       "    </tr>\n",
       "    <tr>\n",
       "      <th>1</th>\n",
       "      <td>ID_2882</td>\n",
       "      <td>Sector 3, Marathalli</td>\n",
       "      <td>Ice Cream, Desserts</td>\n",
       "      <td>₹100</td>\n",
       "      <td>₹50</td>\n",
       "      <td>3.5</td>\n",
       "      <td>11</td>\n",
       "      <td>4</td>\n",
       "      <td>30 minutes</td>\n",
       "    </tr>\n",
       "    <tr>\n",
       "      <th>2</th>\n",
       "      <td>ID_1595</td>\n",
       "      <td>Mumbai Central</td>\n",
       "      <td>Italian, Street Food, Fast Food</td>\n",
       "      <td>₹150</td>\n",
       "      <td>₹50</td>\n",
       "      <td>3.6</td>\n",
       "      <td>99</td>\n",
       "      <td>30</td>\n",
       "      <td>65 minutes</td>\n",
       "    </tr>\n",
       "    <tr>\n",
       "      <th>3</th>\n",
       "      <td>ID_5929</td>\n",
       "      <td>Sector 1, Noida</td>\n",
       "      <td>Mughlai, North Indian, Chinese</td>\n",
       "      <td>₹250</td>\n",
       "      <td>₹99</td>\n",
       "      <td>3.7</td>\n",
       "      <td>176</td>\n",
       "      <td>95</td>\n",
       "      <td>30 minutes</td>\n",
       "    </tr>\n",
       "    <tr>\n",
       "      <th>4</th>\n",
       "      <td>ID_6123</td>\n",
       "      <td>Rmz Centennial, I Gate, Whitefield</td>\n",
       "      <td>Cafe, Beverages</td>\n",
       "      <td>₹200</td>\n",
       "      <td>₹99</td>\n",
       "      <td>3.2</td>\n",
       "      <td>521</td>\n",
       "      <td>235</td>\n",
       "      <td>65 minutes</td>\n",
       "    </tr>\n",
       "  </tbody>\n",
       "</table>\n",
       "</div>"
      ],
      "text/plain": [
       "  Restaurant                             Location  \\\n",
       "0    ID_6321  FTI College, Law College Road, Pune   \n",
       "1    ID_2882                 Sector 3, Marathalli   \n",
       "2    ID_1595                       Mumbai Central   \n",
       "3    ID_5929                      Sector 1, Noida   \n",
       "4    ID_6123   Rmz Centennial, I Gate, Whitefield   \n",
       "\n",
       "                                 Cuisines Average_Cost Minimum_Order Rating  \\\n",
       "0  Fast Food, Rolls, Burger, Salad, Wraps         ₹200           ₹50    3.5   \n",
       "1                     Ice Cream, Desserts         ₹100           ₹50    3.5   \n",
       "2         Italian, Street Food, Fast Food         ₹150           ₹50    3.6   \n",
       "3          Mughlai, North Indian, Chinese         ₹250           ₹99    3.7   \n",
       "4                         Cafe, Beverages         ₹200           ₹99    3.2   \n",
       "\n",
       "  Votes Reviews Delivery_Time  \n",
       "0    12       4    30 minutes  \n",
       "1    11       4    30 minutes  \n",
       "2    99      30    65 minutes  \n",
       "3   176      95    30 minutes  \n",
       "4   521     235    65 minutes  "
      ]
     },
     "execution_count": 129,
     "metadata": {},
     "output_type": "execute_result"
    }
   ],
   "source": [
    "train_data.head()"
   ]
  },
  {
   "cell_type": "code",
   "execution_count": 15,
   "metadata": {},
   "outputs": [
    {
     "data": {
      "text/html": [
       "<div>\n",
       "<style scoped>\n",
       "    .dataframe tbody tr th:only-of-type {\n",
       "        vertical-align: middle;\n",
       "    }\n",
       "\n",
       "    .dataframe tbody tr th {\n",
       "        vertical-align: top;\n",
       "    }\n",
       "\n",
       "    .dataframe thead th {\n",
       "        text-align: right;\n",
       "    }\n",
       "</style>\n",
       "<table border=\"1\" class=\"dataframe\">\n",
       "  <thead>\n",
       "    <tr style=\"text-align: right;\">\n",
       "      <th></th>\n",
       "      <th>Restaurant</th>\n",
       "      <th>Location</th>\n",
       "      <th>Cuisines</th>\n",
       "      <th>Average_Cost</th>\n",
       "      <th>Minimum_Order</th>\n",
       "      <th>Rating</th>\n",
       "      <th>Votes</th>\n",
       "      <th>Reviews</th>\n",
       "    </tr>\n",
       "  </thead>\n",
       "  <tbody>\n",
       "    <tr>\n",
       "      <th>0</th>\n",
       "      <td>ID_2842</td>\n",
       "      <td>Mico Layout, Stage 2, BTM Layout,Bangalore</td>\n",
       "      <td>North Indian, Chinese, Assamese</td>\n",
       "      <td>₹350</td>\n",
       "      <td>₹50</td>\n",
       "      <td>4.2</td>\n",
       "      <td>361</td>\n",
       "      <td>225</td>\n",
       "    </tr>\n",
       "    <tr>\n",
       "      <th>1</th>\n",
       "      <td>ID_730</td>\n",
       "      <td>Mico Layout, Stage 2, BTM Layout,Bangalore</td>\n",
       "      <td>Biryani, Kebab</td>\n",
       "      <td>₹100</td>\n",
       "      <td>₹50</td>\n",
       "      <td>NEW</td>\n",
       "      <td>-</td>\n",
       "      <td>-</td>\n",
       "    </tr>\n",
       "    <tr>\n",
       "      <th>2</th>\n",
       "      <td>ID_4620</td>\n",
       "      <td>Sector 1, Noida</td>\n",
       "      <td>Fast Food</td>\n",
       "      <td>₹100</td>\n",
       "      <td>₹50</td>\n",
       "      <td>3.6</td>\n",
       "      <td>36</td>\n",
       "      <td>16</td>\n",
       "    </tr>\n",
       "    <tr>\n",
       "      <th>3</th>\n",
       "      <td>ID_5470</td>\n",
       "      <td>Babarpur, New Delhi, Delhi</td>\n",
       "      <td>Mithai, North Indian, Chinese, Fast Food, Sout...</td>\n",
       "      <td>₹200</td>\n",
       "      <td>₹50</td>\n",
       "      <td>3.6</td>\n",
       "      <td>66</td>\n",
       "      <td>33</td>\n",
       "    </tr>\n",
       "    <tr>\n",
       "      <th>4</th>\n",
       "      <td>ID_3249</td>\n",
       "      <td>Sector 1, Noida</td>\n",
       "      <td>Chinese, Fast Food</td>\n",
       "      <td>₹150</td>\n",
       "      <td>₹50</td>\n",
       "      <td>2.9</td>\n",
       "      <td>38</td>\n",
       "      <td>14</td>\n",
       "    </tr>\n",
       "  </tbody>\n",
       "</table>\n",
       "</div>"
      ],
      "text/plain": [
       "  Restaurant                                    Location  \\\n",
       "0    ID_2842  Mico Layout, Stage 2, BTM Layout,Bangalore   \n",
       "1     ID_730  Mico Layout, Stage 2, BTM Layout,Bangalore   \n",
       "2    ID_4620                             Sector 1, Noida   \n",
       "3    ID_5470                  Babarpur, New Delhi, Delhi   \n",
       "4    ID_3249                             Sector 1, Noida   \n",
       "\n",
       "                                            Cuisines Average_Cost  \\\n",
       "0                    North Indian, Chinese, Assamese         ₹350   \n",
       "1                                     Biryani, Kebab         ₹100   \n",
       "2                                          Fast Food         ₹100   \n",
       "3  Mithai, North Indian, Chinese, Fast Food, Sout...         ₹200   \n",
       "4                                 Chinese, Fast Food         ₹150   \n",
       "\n",
       "  Minimum_Order Rating Votes Reviews  \n",
       "0           ₹50    4.2   361     225  \n",
       "1           ₹50    NEW     -       -  \n",
       "2           ₹50    3.6    36      16  \n",
       "3           ₹50    3.6    66      33  \n",
       "4           ₹50    2.9    38      14  "
      ]
     },
     "execution_count": 15,
     "metadata": {},
     "output_type": "execute_result"
    }
   ],
   "source": [
    "test_data.head()"
   ]
  },
  {
   "cell_type": "code",
   "execution_count": 130,
   "metadata": {},
   "outputs": [
    {
     "data": {
      "text/plain": [
       "array(['3.5', '3.6', '3.7', '3.2', '3.8', '4.0', '3.9', '4.2', '-', '2.8',\n",
       "       '3.0', '3.3', '3.1', '4.7', '3.4', '4.1', 'NEW', '2.9', '4.6',\n",
       "       '4.3', '2.6', '4.5', '4.4', '4.8', '2.4', '2.7', '2.5',\n",
       "       'Opening Soon', '2.2', '4.9', '2.3', '2.1', 'Temporarily Closed'],\n",
       "      dtype=object)"
      ]
     },
     "execution_count": 130,
     "metadata": {},
     "output_type": "execute_result"
    }
   ],
   "source": [
    "train_data.Rating.unique()"
   ]
  },
  {
   "cell_type": "code",
   "execution_count": 17,
   "metadata": {},
   "outputs": [
    {
     "data": {
      "text/html": [
       "<div>\n",
       "<style scoped>\n",
       "    .dataframe tbody tr th:only-of-type {\n",
       "        vertical-align: middle;\n",
       "    }\n",
       "\n",
       "    .dataframe tbody tr th {\n",
       "        vertical-align: top;\n",
       "    }\n",
       "\n",
       "    .dataframe thead th {\n",
       "        text-align: right;\n",
       "    }\n",
       "</style>\n",
       "<table border=\"1\" class=\"dataframe\">\n",
       "  <thead>\n",
       "    <tr style=\"text-align: right;\">\n",
       "      <th></th>\n",
       "      <th>Restaurant</th>\n",
       "      <th>Location</th>\n",
       "      <th>Cuisines</th>\n",
       "      <th>Average_Cost</th>\n",
       "      <th>Minimum_Order</th>\n",
       "      <th>Rating</th>\n",
       "      <th>Votes</th>\n",
       "      <th>Reviews</th>\n",
       "    </tr>\n",
       "  </thead>\n",
       "  <tbody>\n",
       "  </tbody>\n",
       "</table>\n",
       "</div>"
      ],
      "text/plain": [
       "Empty DataFrame\n",
       "Columns: [Restaurant, Location, Cuisines, Average_Cost, Minimum_Order, Rating, Votes, Reviews]\n",
       "Index: []"
      ]
     },
     "execution_count": 17,
     "metadata": {},
     "output_type": "execute_result"
    }
   ],
   "source": [
    "test_data[test_data.Restaurant=='ID_5662']"
   ]
  },
  {
   "cell_type": "markdown",
   "metadata": {},
   "source": [
    "### Work around Cuisines features"
   ]
  },
  {
   "cell_type": "code",
   "execution_count": 18,
   "metadata": {},
   "outputs": [
    {
     "name": "stderr",
     "output_type": "stream",
     "text": [
      "C:\\ProgramData\\Anaconda3\\lib\\site-packages\\ipykernel_launcher.py:10: FutureWarning: Sorting because non-concatenation axis is not aligned. A future version\n",
      "of pandas will change to not sort by default.\n",
      "\n",
      "To accept the future behavior, pass 'sort=False'.\n",
      "\n",
      "To retain the current behavior and silence the warning, pass 'sort=True'.\n",
      "\n",
      "  # Remove the CWD from sys.path while we load stuff.\n"
     ]
    }
   ],
   "source": [
    "restaurant_typ_list=train_data.Cuisines.apply(lambda x : x.split(',')).tolist()+test_data.Cuisines.apply(lambda x : x.split(',')).tolist()\n",
    "restaurant_name_type = list(set([j.strip() for sub in restaurant_typ_list for j in sub]))\n",
    "for t in restaurant_name_type:\n",
    "    train_data[t]= train_data.Cuisines.apply(lambda x : 0 if t not in x else 1)\n",
    "    test_data[t]= test_data.Cuisines.apply(lambda x : 0 if t not in x else 1)\n",
    "\n",
    "train_data['train_flag'] = 1\n",
    "test_data['train_flag'] = 0\n",
    "test_data['Delivery_Time'] = -1\n",
    "merge_train_test = pd.concat([train_data,test_data])"
   ]
  },
  {
   "cell_type": "code",
   "execution_count": 19,
   "metadata": {},
   "outputs": [
    {
     "data": {
      "text/html": [
       "<div>\n",
       "<style scoped>\n",
       "    .dataframe tbody tr th:only-of-type {\n",
       "        vertical-align: middle;\n",
       "    }\n",
       "\n",
       "    .dataframe tbody tr th {\n",
       "        vertical-align: top;\n",
       "    }\n",
       "\n",
       "    .dataframe thead th {\n",
       "        text-align: right;\n",
       "    }\n",
       "</style>\n",
       "<table border=\"1\" class=\"dataframe\">\n",
       "  <thead>\n",
       "    <tr style=\"text-align: right;\">\n",
       "      <th></th>\n",
       "      <th>Delivery_Time</th>\n",
       "    </tr>\n",
       "  </thead>\n",
       "  <tbody>\n",
       "    <tr>\n",
       "      <th>0</th>\n",
       "      <td>120 minutes</td>\n",
       "    </tr>\n",
       "    <tr>\n",
       "      <th>1</th>\n",
       "      <td>20 minutes</td>\n",
       "    </tr>\n",
       "    <tr>\n",
       "      <th>2</th>\n",
       "      <td>20 minutes</td>\n",
       "    </tr>\n",
       "    <tr>\n",
       "      <th>3</th>\n",
       "      <td>65 minutes</td>\n",
       "    </tr>\n",
       "    <tr>\n",
       "      <th>4</th>\n",
       "      <td>45 minutes</td>\n",
       "    </tr>\n",
       "  </tbody>\n",
       "</table>\n",
       "</div>"
      ],
      "text/plain": [
       "  Delivery_Time\n",
       "0   120 minutes\n",
       "1    20 minutes\n",
       "2    20 minutes\n",
       "3    65 minutes\n",
       "4    45 minutes"
      ]
     },
     "execution_count": 19,
     "metadata": {},
     "output_type": "execute_result"
    }
   ],
   "source": [
    "submission_data.head()"
   ]
  },
  {
   "cell_type": "code",
   "execution_count": 20,
   "metadata": {},
   "outputs": [
    {
     "data": {
      "text/plain": [
       "Restaurant          0\n",
       "Location            0\n",
       "Cuisines            0\n",
       "Average_Cost        0\n",
       "Minimum_Order       0\n",
       "Rating              0\n",
       "Votes               0\n",
       "Reviews             0\n",
       "Delivery_Time       0\n",
       "Asian               0\n",
       "Assamese            0\n",
       "Street Food         0\n",
       "Burger              0\n",
       "Turkish             0\n",
       "North Indian        0\n",
       "Juices              0\n",
       "Tea                 0\n",
       "Charcoal Chicken    0\n",
       "Rolls               0\n",
       "Momos               0\n",
       "Paan                0\n",
       "Odia                0\n",
       "Malwani             0\n",
       "Sri Lankan          0\n",
       "Bangladeshi         0\n",
       "Kebab               0\n",
       "Iranian             0\n",
       "Lucknowi            0\n",
       "Naga                0\n",
       "Ice Cream           0\n",
       "                   ..\n",
       "Beverages           0\n",
       "North Eastern       0\n",
       "American            0\n",
       "Indian              0\n",
       "Belgian             0\n",
       "Tibetan             0\n",
       "Hot dogs            0\n",
       "Roast Chicken       0\n",
       "Israeli             0\n",
       "Vietnamese          0\n",
       "African             0\n",
       "South American      0\n",
       "Malaysian           0\n",
       "Continental         0\n",
       "Arabian             0\n",
       "German              0\n",
       "Steak               0\n",
       "Afghan              0\n",
       "Konkan              0\n",
       "Chettinad           0\n",
       "Bakery              0\n",
       "Bar Food            0\n",
       "Pizza               0\n",
       "Mughlai             0\n",
       "Mangalorean         0\n",
       "Finger Food         0\n",
       "Maharashtrian       0\n",
       "Healthy Food        0\n",
       "Mishti              0\n",
       "train_flag          0\n",
       "Length: 111, dtype: int64"
      ]
     },
     "execution_count": 20,
     "metadata": {},
     "output_type": "execute_result"
    }
   ],
   "source": [
    "train_data.isna().sum()"
   ]
  },
  {
   "cell_type": "code",
   "execution_count": 21,
   "metadata": {},
   "outputs": [
    {
     "data": {
      "text/plain": [
       "Restaurant          0\n",
       "Location            0\n",
       "Cuisines            0\n",
       "Average_Cost        0\n",
       "Minimum_Order       0\n",
       "Rating              0\n",
       "Votes               0\n",
       "Reviews             0\n",
       "Asian               0\n",
       "Assamese            0\n",
       "Street Food         0\n",
       "Burger              0\n",
       "Turkish             0\n",
       "North Indian        0\n",
       "Juices              0\n",
       "Tea                 0\n",
       "Charcoal Chicken    0\n",
       "Rolls               0\n",
       "Momos               0\n",
       "Paan                0\n",
       "Odia                0\n",
       "Malwani             0\n",
       "Sri Lankan          0\n",
       "Bangladeshi         0\n",
       "Kebab               0\n",
       "Iranian             0\n",
       "Lucknowi            0\n",
       "Naga                0\n",
       "Ice Cream           0\n",
       "Rajasthani          0\n",
       "                   ..\n",
       "North Eastern       0\n",
       "American            0\n",
       "Indian              0\n",
       "Belgian             0\n",
       "Tibetan             0\n",
       "Hot dogs            0\n",
       "Roast Chicken       0\n",
       "Israeli             0\n",
       "Vietnamese          0\n",
       "African             0\n",
       "South American      0\n",
       "Malaysian           0\n",
       "Continental         0\n",
       "Arabian             0\n",
       "German              0\n",
       "Steak               0\n",
       "Afghan              0\n",
       "Konkan              0\n",
       "Chettinad           0\n",
       "Bakery              0\n",
       "Bar Food            0\n",
       "Pizza               0\n",
       "Mughlai             0\n",
       "Mangalorean         0\n",
       "Finger Food         0\n",
       "Maharashtrian       0\n",
       "Healthy Food        0\n",
       "Mishti              0\n",
       "train_flag          0\n",
       "Delivery_Time       0\n",
       "Length: 111, dtype: int64"
      ]
     },
     "execution_count": 21,
     "metadata": {},
     "output_type": "execute_result"
    }
   ],
   "source": [
    "test_data.isna().sum()"
   ]
  },
  {
   "cell_type": "code",
   "execution_count": 22,
   "metadata": {},
   "outputs": [],
   "source": [
    "\n",
    "# #Remove row which have 'for' in Average_Cost\n",
    "# train_data = train_data[train_data.Average_Cost!='for']\n",
    "# #Conver into int\n",
    "# #train_data['Average_Cost'] = train_data['Average_Cost'].apply(lambda x : int(x.replace(',','').replace('₹','')))\n",
    "\n",
    "# #test_data['Average_Cost'] = test_data['Average_Cost'].apply(lambda x : int(x.replace(',','').replace('₹','')))\n",
    "\n",
    "# train_data['Minimum_Order'] = train_data['Minimum_Order'].apply(lambda x : int(x.replace(',','').replace('₹','')))\n",
    "\n",
    "# test_data['Minimum_Order'] = test_data['Minimum_Order'].apply(lambda x : int(x.replace(',','').replace('₹','')))\n",
    "\n"
   ]
  },
  {
   "cell_type": "code",
   "execution_count": 23,
   "metadata": {},
   "outputs": [
    {
     "ename": "AttributeError",
     "evalue": "'str' object has no attribute 'log'",
     "output_type": "error",
     "traceback": [
      "\u001b[1;31m---------------------------------------------------------------------------\u001b[0m",
      "\u001b[1;31mAttributeError\u001b[0m                            Traceback (most recent call last)",
      "\u001b[1;32m<ipython-input-23-2f33d1ac67b7>\u001b[0m in \u001b[0;36m<module>\u001b[1;34m\u001b[0m\n\u001b[0;32m      3\u001b[0m \u001b[1;32mimport\u001b[0m \u001b[0mseaborn\u001b[0m \u001b[1;32mas\u001b[0m \u001b[0msns\u001b[0m\u001b[1;33m\u001b[0m\u001b[1;33m\u001b[0m\u001b[0m\n\u001b[0;32m      4\u001b[0m \u001b[1;32mimport\u001b[0m \u001b[0mnumpy\u001b[0m \u001b[1;32mas\u001b[0m \u001b[0mnp\u001b[0m\u001b[1;33m\u001b[0m\u001b[1;33m\u001b[0m\u001b[0m\n\u001b[1;32m----> 5\u001b[1;33m \u001b[0msns\u001b[0m\u001b[1;33m.\u001b[0m\u001b[0mdistplot\u001b[0m\u001b[1;33m(\u001b[0m\u001b[0mnp\u001b[0m\u001b[1;33m.\u001b[0m\u001b[0mlog\u001b[0m\u001b[1;33m(\u001b[0m\u001b[0mtest_data\u001b[0m\u001b[1;33m[\u001b[0m\u001b[1;34m'Minimum_Order'\u001b[0m\u001b[1;33m]\u001b[0m\u001b[1;33m)\u001b[0m\u001b[1;33m)\u001b[0m\u001b[1;33m\u001b[0m\u001b[1;33m\u001b[0m\u001b[0m\n\u001b[0m\u001b[0;32m      6\u001b[0m \u001b[1;31m#sns.distplot(train_data['Minimum_Order'])\u001b[0m\u001b[1;33m\u001b[0m\u001b[1;33m\u001b[0m\u001b[1;33m\u001b[0m\u001b[0m\n",
      "\u001b[1;31mAttributeError\u001b[0m: 'str' object has no attribute 'log'"
     ]
    }
   ],
   "source": [
    "import matplotlib.pyplot as plt\n",
    "%matplotlib inline\n",
    "import seaborn as sns\n",
    "import numpy as np\n",
    "sns.distplot(np.log(test_data['Minimum_Order']))\n",
    "#sns.distplot(train_data['Minimum_Order'])"
   ]
  },
  {
   "cell_type": "code",
   "execution_count": 24,
   "metadata": {
    "scrolled": true
   },
   "outputs": [],
   "source": [
    "#train_data['new_rating'] = train_data['Rating']\n",
    "#train_data.groupby(['Delivery_Time','Rating']).agg({'new_rating':'count'}).reset_index().sort_values(by=['new_rating'],ascending=False)"
   ]
  },
  {
   "cell_type": "code",
   "execution_count": 25,
   "metadata": {},
   "outputs": [
    {
     "data": {
      "text/plain": [
       "array(['3.5', '3.6', '3.7', '3.2', '3.8', '4.0', '3.9', '4.2', '-', '2.8',\n",
       "       '3.0', '3.3', '3.1', '4.7', '3.4', '4.1', 'NEW', '2.9', '4.6',\n",
       "       '4.3', '2.6', '4.5', '4.4', '4.8', '2.4', '2.7', '2.5',\n",
       "       'Opening Soon', '2.2', '4.9', '2.3', '2.1', 'Temporarily Closed'],\n",
       "      dtype=object)"
      ]
     },
     "execution_count": 25,
     "metadata": {},
     "output_type": "execute_result"
    }
   ],
   "source": [
    "train_data.Rating.unique()"
   ]
  },
  {
   "cell_type": "code",
   "execution_count": 99,
   "metadata": {},
   "outputs": [],
   "source": [
    "def data_fill(df):\n",
    "    #Remove row which have 'for' in Average_Cost\n",
    "    df = df[df.Average_Cost!='for']\n",
    "    #Conver into int\n",
    "    df['Average_Cost'] = df['Average_Cost'].apply(lambda x : int(x.replace(',','').replace('₹','')))\n",
    "    df['Minimum_Order'] = df['Minimum_Order'].apply(lambda x : int(x.replace(',','').replace('₹','')))\n",
    "    \n",
    "    df['log_avg_cost'] = np.log(df['Average_Cost'])\n",
    "    df['log_min_order'] = np.log(df['Minimum_Order'])\n",
    "    \n",
    "    df['Rating_Bins'] = df['Rating'].apply(lambda x : x if x in ['Opening Soon','NEW','-','Temporarily Closed']\n",
    "                                                      else 'Rating_<=1.5' if float(x)<=1.5\n",
    "                                                      else 'Rating_1.5-2.0' if float(x)>1.5 and float(x)<=2.0 \n",
    "                                                      else 'Rating_2.0-2.5' if float(x)>2.0 and float(x)<=2.5\n",
    "                                                      else 'Rating_2.5-3.0' if float(x)>2.5 and float(x)<=3.0\n",
    "                                                      else 'Rating_3.0-3.5' if float(x)>3.0 and float(x)<=3.5\n",
    "                                                      else 'Rating_3.5-4.0' if float(x)>3.5 and float(x)<=4.0\n",
    "                                                      else 'Rating_>4.0' if float(x)>4.0 else x)\n",
    "    df['new_rating'] = df['Rating'].apply(lambda x : -1 if x in ['Opening Soon','NEW','-','Temporarily Closed']\n",
    "                                                      else float(x))\n",
    "    \n",
    "    \n",
    "    df.loc[df.Votes=='-','Votes'] = -1\n",
    "    df.loc[df.Reviews=='-','Reviews']=-1\n",
    "    df['Votes'] = df.Votes.astype('int')\n",
    "    df['Reviews'] = df.Reviews.astype('int')\n",
    "    df = pd.get_dummies(df,columns=['Rating_Bins'])\n",
    "    return df"
   ]
  },
  {
   "cell_type": "code",
   "execution_count": 100,
   "metadata": {},
   "outputs": [
    {
     "name": "stderr",
     "output_type": "stream",
     "text": [
      "C:\\ProgramData\\Anaconda3\\lib\\site-packages\\ipykernel_launcher.py:5: SettingWithCopyWarning: \n",
      "A value is trying to be set on a copy of a slice from a DataFrame.\n",
      "Try using .loc[row_indexer,col_indexer] = value instead\n",
      "\n",
      "See the caveats in the documentation: http://pandas.pydata.org/pandas-docs/stable/indexing.html#indexing-view-versus-copy\n",
      "  \"\"\"\n",
      "C:\\ProgramData\\Anaconda3\\lib\\site-packages\\ipykernel_launcher.py:6: SettingWithCopyWarning: \n",
      "A value is trying to be set on a copy of a slice from a DataFrame.\n",
      "Try using .loc[row_indexer,col_indexer] = value instead\n",
      "\n",
      "See the caveats in the documentation: http://pandas.pydata.org/pandas-docs/stable/indexing.html#indexing-view-versus-copy\n",
      "  \n",
      "C:\\ProgramData\\Anaconda3\\lib\\site-packages\\ipykernel_launcher.py:8: SettingWithCopyWarning: \n",
      "A value is trying to be set on a copy of a slice from a DataFrame.\n",
      "Try using .loc[row_indexer,col_indexer] = value instead\n",
      "\n",
      "See the caveats in the documentation: http://pandas.pydata.org/pandas-docs/stable/indexing.html#indexing-view-versus-copy\n",
      "  \n",
      "C:\\ProgramData\\Anaconda3\\lib\\site-packages\\ipykernel_launcher.py:9: RuntimeWarning: divide by zero encountered in log\n",
      "  if __name__ == '__main__':\n",
      "C:\\ProgramData\\Anaconda3\\lib\\site-packages\\ipykernel_launcher.py:9: SettingWithCopyWarning: \n",
      "A value is trying to be set on a copy of a slice from a DataFrame.\n",
      "Try using .loc[row_indexer,col_indexer] = value instead\n",
      "\n",
      "See the caveats in the documentation: http://pandas.pydata.org/pandas-docs/stable/indexing.html#indexing-view-versus-copy\n",
      "  if __name__ == '__main__':\n",
      "C:\\ProgramData\\Anaconda3\\lib\\site-packages\\ipykernel_launcher.py:11: SettingWithCopyWarning: \n",
      "A value is trying to be set on a copy of a slice from a DataFrame.\n",
      "Try using .loc[row_indexer,col_indexer] = value instead\n",
      "\n",
      "See the caveats in the documentation: http://pandas.pydata.org/pandas-docs/stable/indexing.html#indexing-view-versus-copy\n",
      "  # This is added back by InteractiveShellApp.init_path()\n",
      "C:\\ProgramData\\Anaconda3\\lib\\site-packages\\pandas\\core\\indexing.py:543: SettingWithCopyWarning: \n",
      "A value is trying to be set on a copy of a slice from a DataFrame.\n",
      "Try using .loc[row_indexer,col_indexer] = value instead\n",
      "\n",
      "See the caveats in the documentation: http://pandas.pydata.org/pandas-docs/stable/indexing.html#indexing-view-versus-copy\n",
      "  self.obj[item] = s\n",
      "C:\\ProgramData\\Anaconda3\\lib\\site-packages\\ipykernel_launcher.py:23: SettingWithCopyWarning: \n",
      "A value is trying to be set on a copy of a slice from a DataFrame.\n",
      "Try using .loc[row_indexer,col_indexer] = value instead\n",
      "\n",
      "See the caveats in the documentation: http://pandas.pydata.org/pandas-docs/stable/indexing.html#indexing-view-versus-copy\n",
      "C:\\ProgramData\\Anaconda3\\lib\\site-packages\\ipykernel_launcher.py:24: SettingWithCopyWarning: \n",
      "A value is trying to be set on a copy of a slice from a DataFrame.\n",
      "Try using .loc[row_indexer,col_indexer] = value instead\n",
      "\n",
      "See the caveats in the documentation: http://pandas.pydata.org/pandas-docs/stable/indexing.html#indexing-view-versus-copy\n"
     ]
    }
   ],
   "source": [
    "train_data_pre = data_fill(train_data)\n",
    "test_data_pre = data_fill(test_data)"
   ]
  },
  {
   "cell_type": "code",
   "execution_count": 101,
   "metadata": {},
   "outputs": [
    {
     "data": {
      "text/plain": [
       "Index(['Restaurant', 'Location', 'Cuisines', 'Average_Cost', 'Minimum_Order',\n",
       "       'Rating', 'Votes', 'Reviews', 'Delivery_Time', 'Asian',\n",
       "       ...\n",
       "       'log_min_order', 'Rating_Bins_-', 'Rating_Bins_NEW',\n",
       "       'Rating_Bins_Opening Soon', 'Rating_Bins_Rating_2.0-2.5',\n",
       "       'Rating_Bins_Rating_2.5-3.0', 'Rating_Bins_Rating_3.0-3.5',\n",
       "       'Rating_Bins_Rating_3.5-4.0', 'Rating_Bins_Rating_>4.0',\n",
       "       'Rating_Bins_Temporarily Closed'],\n",
       "      dtype='object', length=122)"
      ]
     },
     "execution_count": 101,
     "metadata": {},
     "output_type": "execute_result"
    }
   ],
   "source": [
    "train_data_pre.columns"
   ]
  },
  {
   "cell_type": "code",
   "execution_count": 102,
   "metadata": {},
   "outputs": [],
   "source": [
    "#train_data_pre = train_data_pre[~(train_data_pre.Delivery_Time.isin(['10 minutes','80 minutes','20 minutes','120 minutes']))]"
   ]
  },
  {
   "cell_type": "code",
   "execution_count": 103,
   "metadata": {},
   "outputs": [
    {
     "data": {
      "text/plain": [
       "30 minutes     7405\n",
       "45 minutes     2665\n",
       "65 minutes      923\n",
       "120 minutes      62\n",
       "20 minutes       20\n",
       "80 minutes       14\n",
       "10 minutes        4\n",
       "Name: Delivery_Time, dtype: int64"
      ]
     },
     "execution_count": 103,
     "metadata": {},
     "output_type": "execute_result"
    }
   ],
   "source": [
    "train_data_pre.Delivery_Time.value_counts()\n",
    "# 30 minutes     2119\n",
    "# 45 minutes      635\n",
    "# 120 minutes      10\n",
    "# 65 minutes        9\n",
    "# 80 minutes        1"
   ]
  },
  {
   "cell_type": "code",
   "execution_count": 104,
   "metadata": {},
   "outputs": [],
   "source": [
    "drop_col = ['Restaurant','Location','Cuisines','Average_Cost','Minimum_Order','Rating','Delivery_Time','Rating_Bins_Temporarily Closed']\n",
    "target_col =['Delivery_Time']\n",
    "X,y = train_data_pre.drop(columns=drop_col,axis=1),train_data_pre['Delivery_Time']\n",
    "\n",
    "from sklearn.utils import class_weight\n",
    "class_weights = list(class_weight.compute_class_weight('balanced',\n",
    "                                             np.unique(y),\n",
    "                                             y))\n",
    "\n",
    "y_dic={}\n",
    "for w,c_y in zip(class_weights,np.unique(y)):\n",
    "    y_dic[c_y]=w\n",
    "w_array = np.ones(y.shape[0], dtype = 'float')\n",
    "for i, val in enumerate(y):\n",
    "    w_array[i] = y_dic[val]"
   ]
  },
  {
   "cell_type": "code",
   "execution_count": 105,
   "metadata": {},
   "outputs": [],
   "source": [
    "# 30 minutes     7405\n",
    "# 45 minutes     2665\n",
    "# 65 minutes      923\n",
    "# 120 minutes      62\n",
    "# 20 minutes       20\n",
    "# 80 minutes       14\n",
    "# 10 minutes        4\n",
    "label_dic = {'30 minutes':1,'45 minutes':2,'120 minutes':3,'65 minutes':4,'80 minutes':5,'10 minutes':6,'20 minutes':0}\n",
    "\n",
    "new_y = y.apply(lambda x :label_dic[x] )"
   ]
  },
  {
   "cell_type": "code",
   "execution_count": 126,
   "metadata": {},
   "outputs": [
    {
     "name": "stdout",
     "output_type": "stream",
     "text": [
      "                                                                                                                       \n",
      "XGBoost objective call #1 cur_best_score=1.80000\n",
      "Params:                                                                                                                \n",
      "alpha=7.721399286231396e-05 booster =gbtree eval_metric=mlogloss lambda=4.372382788631563e-05 learning_rate=0.07897695361421889 max_depth=5 min_child_weight =4.416484128029856 num_class=7 objective=multi:softprob seed=287400\n",
      "  0%|                                                                           | 0/5000 [00:00<?, ?it/s, best loss: ?]"
     ]
    },
    {
     "name": "stderr",
     "output_type": "stream",
     "text": [
      "C:\\ProgramData\\Anaconda3\\lib\\site-packages\\sklearn\\model_selection\\_split.py:657: Warning: The least populated class in y has only 3 members, which is too few. The minimum number of members in any class cannot be less than n_splits=5.\n",
      "  % (min_groups, self.n_splits)), Warning)\n",
      "\n"
     ]
    },
    {
     "name": "stdout",
     "output_type": "stream",
     "text": [
      "[0]\ttrain-mlogloss:1.79106\ttest-mlogloss:1.79527                                                                       \n",
      "\n",
      "[9]\ttrain-mlogloss:1.13071\ttest-mlogloss:1.15715                                                                       \n",
      "\n",
      "CV finished n_rounds=10 cv_score=1.15715                                                                               \n",
      "valid score=1.1632443937837604                                                                                         \n",
      "NEW BEST SCORE=1.1632443937837604                                                                                      \n",
      "Compute submissions guid=c0243752-e8f5-4bfa-b165-1b01324fcbd7                                                          \n",
      "                                                                                                                       \n",
      "XGBoost objective call #2 cur_best_score=1.16324\n",
      "Params:                                                                                                                \n",
      "alpha=1.1667989905932e-05 booster =gbtree eval_metric=mlogloss lambda=3.994858373605671e-05 learning_rate=0.027985623095777134 max_depth=6 min_child_weight =2.2619233141068524 num_class=7 objective=multi:softprob seed=1644146\n",
      "  0%|                                                | 1/5000 [00:03<4:18:45,  3.11s/it, best loss: 1.1632443937837604]"
     ]
    },
    {
     "name": "stderr",
     "output_type": "stream",
     "text": [
      "C:\\ProgramData\\Anaconda3\\lib\\site-packages\\sklearn\\model_selection\\_split.py:657: Warning: The least populated class in y has only 3 members, which is too few. The minimum number of members in any class cannot be less than n_splits=5.\n",
      "  % (min_groups, self.n_splits)), Warning)\n",
      "\n"
     ]
    },
    {
     "name": "stdout",
     "output_type": "stream",
     "text": [
      "[0]\ttrain-mlogloss:1.88874\ttest-mlogloss:1.89097                                                                       \n",
      "\n",
      "[9]\ttrain-mlogloss:1.51954\ttest-mlogloss:1.53673                                                                       \n",
      "\n",
      "CV finished n_rounds=10 cv_score=1.53673                                                                               \n",
      "valid score=1.5409771369443837                                                                                         \n",
      "                                                                                                                       \n",
      "XGBoost objective call #3 cur_best_score=1.16324\n",
      "Params:                                                                                                                \n",
      "alpha=6.684345481459818e-05 booster =gbtree eval_metric=mlogloss lambda=3.936058012787652e-05 learning_rate=0.07867714737675605 max_depth=6 min_child_weight =4.410704440813041 num_class=7 objective=multi:softprob seed=409507\n",
      "  0%|                                                | 2/5000 [00:06<4:23:18,  3.16s/it, best loss: 1.1632443937837604]"
     ]
    },
    {
     "name": "stderr",
     "output_type": "stream",
     "text": [
      "C:\\ProgramData\\Anaconda3\\lib\\site-packages\\sklearn\\model_selection\\_split.py:657: Warning: The least populated class in y has only 3 members, which is too few. The minimum number of members in any class cannot be less than n_splits=5.\n",
      "  % (min_groups, self.n_splits)), Warning)\n",
      "\n"
     ]
    },
    {
     "name": "stdout",
     "output_type": "stream",
     "text": [
      "[0]\ttrain-mlogloss:1.78774\ttest-mlogloss:1.79401                                                                       \n",
      "\n",
      "[9]\ttrain-mlogloss:1.1113\ttest-mlogloss:1.15149                                                                        \n",
      "\n",
      "CV finished n_rounds=10 cv_score=1.15149                                                                               \n",
      "valid score=1.1574265840204827                                                                                         \n",
      "NEW BEST SCORE=1.1574265840204827                                                                                      \n",
      "Compute submissions guid=542980fe-f67e-452a-991a-29f3ff8a2de5                                                          \n",
      "                                                                                                                       \n",
      "XGBoost objective call #4 cur_best_score=1.15743\n",
      "Params:                                                                                                                \n",
      "alpha=1.871958478208858e-05 booster =gbtree eval_metric=mlogloss lambda=1.9696542123357947e-05 learning_rate=0.0366568587574631 max_depth=6 min_child_weight =5.992589322225387 num_class=7 objective=multi:softprob seed=1813065\n",
      "  0%|                                                | 3/5000 [00:10<4:46:47,  3.44s/it, best loss: 1.1574265840204827]"
     ]
    },
    {
     "name": "stderr",
     "output_type": "stream",
     "text": [
      "C:\\ProgramData\\Anaconda3\\lib\\site-packages\\sklearn\\model_selection\\_split.py:657: Warning: The least populated class in y has only 3 members, which is too few. The minimum number of members in any class cannot be less than n_splits=5.\n",
      "  % (min_groups, self.n_splits)), Warning)\n",
      "\n"
     ]
    },
    {
     "name": "stdout",
     "output_type": "stream",
     "text": [
      "[0]\ttrain-mlogloss:1.87122\ttest-mlogloss:1.87414                                                                       \n",
      "\n",
      "[9]\ttrain-mlogloss:1.42687\ttest-mlogloss:1.44834                                                                       \n",
      "\n",
      "CV finished n_rounds=10 cv_score=1.44834                                                                               \n",
      "valid score=1.4529151279202621                                                                                         \n",
      "                                                                                                                       \n",
      "XGBoost objective call #5 cur_best_score=1.15743\n",
      "Params:                                                                                                                \n",
      "alpha=9.295027369240787e-05 booster =gbtree eval_metric=mlogloss lambda=1.3639627049690637e-05 learning_rate=0.06666772911501087 max_depth=6 min_child_weight =2.6971620905455476 num_class=7 objective=multi:softprob seed=1700265\n",
      "  0%|                                                | 4/5000 [00:14<5:04:34,  3.66s/it, best loss: 1.1574265840204827]"
     ]
    },
    {
     "name": "stderr",
     "output_type": "stream",
     "text": [
      "C:\\ProgramData\\Anaconda3\\lib\\site-packages\\sklearn\\model_selection\\_split.py:657: Warning: The least populated class in y has only 3 members, which is too few. The minimum number of members in any class cannot be less than n_splits=5.\n",
      "  % (min_groups, self.n_splits)), Warning)\n",
      "\n"
     ]
    },
    {
     "name": "stdout",
     "output_type": "stream",
     "text": [
      "[0]\ttrain-mlogloss:1.81136\ttest-mlogloss:1.81667                                                                       \n",
      "\n",
      "[9]\ttrain-mlogloss:1.18444\ttest-mlogloss:1.21942                                                                       \n",
      "\n",
      "CV finished n_rounds=10 cv_score=1.21942                                                                               \n",
      "valid score=1.2247075724490013                                                                                         \n",
      "                                                                                                                       \n",
      "XGBoost objective call #6 cur_best_score=1.15743\n",
      "Params:                                                                                                                \n",
      "alpha=9.480412451136854e-05 booster =gbtree eval_metric=mlogloss lambda=3.908665198438085e-05 learning_rate=0.0031246371812182734 max_depth=4 min_child_weight =2.667822604615038 num_class=7 objective=multi:softprob seed=937627\n",
      "  0%|                                                | 5/5000 [00:18<5:19:26,  3.84s/it, best loss: 1.1574265840204827]"
     ]
    },
    {
     "name": "stderr",
     "output_type": "stream",
     "text": [
      "C:\\ProgramData\\Anaconda3\\lib\\site-packages\\sklearn\\model_selection\\_split.py:657: Warning: The least populated class in y has only 3 members, which is too few. The minimum number of members in any class cannot be less than n_splits=5.\n",
      "  % (min_groups, self.n_splits)), Warning)\n",
      "\n"
     ]
    },
    {
     "name": "stdout",
     "output_type": "stream",
     "text": [
      "[0]\ttrain-mlogloss:1.93978\ttest-mlogloss:1.93986                                                                       \n",
      "\n",
      "[9]\ttrain-mlogloss:1.88691\ttest-mlogloss:1.88778                                                                       \n",
      "\n",
      "CV finished n_rounds=10 cv_score=1.88778                                                                               \n",
      "valid score=1.8884958744736653                                                                                         \n",
      "                                                                                                                       \n",
      "XGBoost objective call #7 cur_best_score=1.15743\n",
      "Params:                                                                                                                \n",
      "alpha=4.022515417270201e-05 booster =gbtree eval_metric=mlogloss lambda=3.758064825697965e-05 learning_rate=0.004750873025406941 max_depth=6 min_child_weight =4.288624877126959 num_class=7 objective=multi:softprob seed=596944\n",
      "  0%|                                                | 6/5000 [00:21<4:55:53,  3.55s/it, best loss: 1.1574265840204827]"
     ]
    },
    {
     "name": "stderr",
     "output_type": "stream",
     "text": [
      "C:\\ProgramData\\Anaconda3\\lib\\site-packages\\sklearn\\model_selection\\_split.py:657: Warning: The least populated class in y has only 3 members, which is too few. The minimum number of members in any class cannot be less than n_splits=5.\n",
      "  % (min_groups, self.n_splits)), Warning)\n",
      "\n"
     ]
    },
    {
     "name": "stdout",
     "output_type": "stream",
     "text": [
      "[0]\ttrain-mlogloss:1.93614\ttest-mlogloss:1.93652                                                                       \n",
      "\n",
      "[9]\ttrain-mlogloss:1.85385\ttest-mlogloss:1.85732                                                                       \n",
      "\n",
      "CV finished n_rounds=10 cv_score=1.85732                                                                               \n",
      "valid score=1.8586318710336776                                                                                         \n",
      "                                                                                                                       \n",
      "XGBoost objective call #8 cur_best_score=1.15743\n",
      "Params:                                                                                                                \n",
      "alpha=9.339694082705511e-05 booster =gbtree eval_metric=mlogloss lambda=9.409643639341679e-05 learning_rate=0.00191119149456509 max_depth=5 min_child_weight =3.737791627133171 num_class=7 objective=multi:softprob seed=899140\n",
      "  0%|                                                | 7/5000 [00:26<5:22:52,  3.88s/it, best loss: 1.1574265840204827]"
     ]
    },
    {
     "name": "stderr",
     "output_type": "stream",
     "text": [
      "C:\\ProgramData\\Anaconda3\\lib\\site-packages\\sklearn\\model_selection\\_split.py:657: Warning: The least populated class in y has only 3 members, which is too few. The minimum number of members in any class cannot be less than n_splits=5.\n",
      "  % (min_groups, self.n_splits)), Warning)\n",
      "\n"
     ]
    },
    {
     "name": "stdout",
     "output_type": "stream",
     "text": [
      "[0]\ttrain-mlogloss:1.94207\ttest-mlogloss:1.94217                                                                       \n",
      "\n",
      "[9]\ttrain-mlogloss:1.90847\ttest-mlogloss:1.90944                                                                       \n",
      "\n",
      "CV finished n_rounds=10 cv_score=1.90944                                                                               \n",
      "valid score=1.9098269506676557                                                                                         \n",
      "                                                                                                                       \n",
      "XGBoost objective call #9 cur_best_score=1.15743\n",
      "Params:                                                                                                                \n",
      "alpha=5.3618560383456476e-05 booster =gbtree eval_metric=mlogloss lambda=2.096217945898632e-05 learning_rate=0.01026161550254608 max_depth=4 min_child_weight =2.9648475235388156 num_class=7 objective=multi:softprob seed=689467\n",
      "  0%|                                                | 8/5000 [00:30<5:23:24,  3.89s/it, best loss: 1.1574265840204827]"
     ]
    },
    {
     "name": "stderr",
     "output_type": "stream",
     "text": [
      "C:\\ProgramData\\Anaconda3\\lib\\site-packages\\sklearn\\model_selection\\_split.py:657: Warning: The least populated class in y has only 3 members, which is too few. The minimum number of members in any class cannot be less than n_splits=5.\n",
      "  % (min_groups, self.n_splits)), Warning)\n",
      "\n"
     ]
    },
    {
     "name": "stdout",
     "output_type": "stream",
     "text": [
      "[0]\ttrain-mlogloss:1.9258\ttest-mlogloss:1.9261                                                                         \n",
      "\n",
      "[9]\ttrain-mlogloss:1.76774\ttest-mlogloss:1.77038                                                                       \n",
      "\n",
      "CV finished n_rounds=10 cv_score=1.77038                                                                               \n",
      "valid score=1.7723274120944132                                                                                         \n",
      "                                                                                                                       \n",
      "XGBoost objective call #10 cur_best_score=1.15743\n",
      "Params:                                                                                                                \n",
      "alpha=8.68066133019429e-05 booster =gbtree eval_metric=mlogloss lambda=7.220343015891891e-05 learning_rate=0.020750138619768155 max_depth=6 min_child_weight =6.770516004371872 num_class=7 objective=multi:softprob seed=793686\n",
      "  0%|                                                | 9/5000 [00:33<5:12:25,  3.76s/it, best loss: 1.1574265840204827]"
     ]
    },
    {
     "name": "stderr",
     "output_type": "stream",
     "text": [
      "C:\\ProgramData\\Anaconda3\\lib\\site-packages\\sklearn\\model_selection\\_split.py:657: Warning: The least populated class in y has only 3 members, which is too few. The minimum number of members in any class cannot be less than n_splits=5.\n",
      "  % (min_groups, self.n_splits)), Warning)\n",
      "\n"
     ]
    },
    {
     "name": "stdout",
     "output_type": "stream",
     "text": [
      "[0]\ttrain-mlogloss:1.90343\ttest-mlogloss:1.90508                                                                       \n",
      "\n",
      "[9]\ttrain-mlogloss:1.60785\ttest-mlogloss:1.62108                                                                       \n",
      "\n",
      "CV finished n_rounds=10 cv_score=1.62108                                                                               \n",
      "valid score=1.6249989619251628                                                                                         \n",
      "                                                                                                                       \n",
      "XGBoost objective call #11 cur_best_score=1.15743\n",
      "Params:                                                                                                                \n",
      "alpha=9.229702419963768e-05 booster =gbtree eval_metric=mlogloss lambda=9.298413074296716e-05 learning_rate=0.004764422158770182 max_depth=6 min_child_weight =5.983348548105545 num_class=7 objective=multi:softprob seed=1419755\n",
      "  0%|                                               | 10/5000 [00:38<5:43:59,  4.14s/it, best loss: 1.1574265840204827]"
     ]
    },
    {
     "name": "stderr",
     "output_type": "stream",
     "text": [
      "C:\\ProgramData\\Anaconda3\\lib\\site-packages\\sklearn\\model_selection\\_split.py:657: Warning: The least populated class in y has only 3 members, which is too few. The minimum number of members in any class cannot be less than n_splits=5.\n",
      "  % (min_groups, self.n_splits)), Warning)\n",
      "\n"
     ]
    },
    {
     "name": "stdout",
     "output_type": "stream",
     "text": [
      "[0]\ttrain-mlogloss:1.93611\ttest-mlogloss:1.93649                                                                       \n",
      "\n",
      "[9]\ttrain-mlogloss:1.85361\ttest-mlogloss:1.85709                                                                       \n",
      "\n",
      "CV finished n_rounds=10 cv_score=1.85709                                                                               \n",
      "valid score=1.8583972839116192                                                                                         \n",
      "                                                                                                                       \n",
      "XGBoost objective call #12 cur_best_score=1.15743\n",
      "Params:                                                                                                                \n",
      "alpha=9.654560316273249e-05 booster =gbtree eval_metric=mlogloss lambda=5.6926254608762727e-05 learning_rate=0.03271202516830355 max_depth=6 min_child_weight =1.6578546164253205 num_class=7 objective=multi:softprob seed=966013\n",
      "  0%|                                               | 11/5000 [00:43<6:07:21,  4.42s/it, best loss: 1.1574265840204827]"
     ]
    },
    {
     "name": "stderr",
     "output_type": "stream",
     "text": [
      "C:\\ProgramData\\Anaconda3\\lib\\site-packages\\sklearn\\model_selection\\_split.py:657: Warning: The least populated class in y has only 3 members, which is too few. The minimum number of members in any class cannot be less than n_splits=5.\n",
      "  % (min_groups, self.n_splits)), Warning)\n",
      "\n"
     ]
    },
    {
     "name": "stdout",
     "output_type": "stream",
     "text": [
      "[0]\ttrain-mlogloss:1.87918\ttest-mlogloss:1.88179                                                                       \n",
      "\n",
      "[9]\ttrain-mlogloss:1.46744\ttest-mlogloss:1.48701                                                                       \n",
      "\n",
      "CV finished n_rounds=10 cv_score=1.48701                                                                               \n",
      "valid score=1.4913024696069566                                                                                         \n",
      "                                                                                                                       \n",
      "XGBoost objective call #13 cur_best_score=1.15743\n",
      "Params:                                                                                                                \n",
      "alpha=8.268623507917629e-05 booster =gbtree eval_metric=mlogloss lambda=4.881083278302054e-05 learning_rate=0.004988591179815733 max_depth=4 min_child_weight =1.5750391611355838 num_class=7 objective=multi:softprob seed=1321774\n",
      "  0%|                                               | 12/5000 [00:48<6:17:21,  4.54s/it, best loss: 1.1574265840204827]"
     ]
    },
    {
     "name": "stderr",
     "output_type": "stream",
     "text": [
      "C:\\ProgramData\\Anaconda3\\lib\\site-packages\\sklearn\\model_selection\\_split.py:657: Warning: The least populated class in y has only 3 members, which is too few. The minimum number of members in any class cannot be less than n_splits=5.\n",
      "  % (min_groups, self.n_splits)), Warning)\n",
      "\n"
     ]
    },
    {
     "name": "stdout",
     "output_type": "stream",
     "text": [
      "[0]\ttrain-mlogloss:1.93612\ttest-mlogloss:1.93626                                                                       \n",
      "\n",
      "[9]\ttrain-mlogloss:1.85385\ttest-mlogloss:1.8552                                                                        \n",
      "\n",
      "CV finished n_rounds=10 cv_score=1.85520                                                                               \n",
      "valid score=1.8562731814625113                                                                                         \n",
      "                                                                                                                       \n",
      "XGBoost objective call #14 cur_best_score=1.15743\n",
      "Params:                                                                                                                \n",
      "alpha=9.663904278033232e-05 booster =gbtree eval_metric=mlogloss lambda=6.394730409622191e-05 learning_rate=0.002466788648207213 max_depth=4 min_child_weight =2.4071959191222554 num_class=7 objective=multi:softprob seed=1503041\n",
      "  0%|                                               | 13/5000 [00:52<5:52:52,  4.25s/it, best loss: 1.1574265840204827]"
     ]
    },
    {
     "name": "stderr",
     "output_type": "stream",
     "text": [
      "C:\\ProgramData\\Anaconda3\\lib\\site-packages\\sklearn\\model_selection\\_split.py:657: Warning: The least populated class in y has only 3 members, which is too few. The minimum number of members in any class cannot be less than n_splits=5.\n",
      "  % (min_groups, self.n_splits)), Warning)\n",
      "\n"
     ]
    },
    {
     "name": "stdout",
     "output_type": "stream",
     "text": [
      "[0]\ttrain-mlogloss:1.94106\ttest-mlogloss:1.94114                                                                       \n",
      "\n",
      "[9]\ttrain-mlogloss:1.89895\ttest-mlogloss:1.89963                                                                       \n",
      "\n",
      "CV finished n_rounds=10 cv_score=1.89963                                                                               \n",
      "valid score=1.9002186744524234                                                                                         \n",
      "                                                                                                                       \n",
      "XGBoost objective call #15 cur_best_score=1.15743\n",
      "Params:                                                                                                                \n",
      "alpha=5.089433008350785e-05 booster =gbtree eval_metric=mlogloss lambda=1.8212470615423863e-05 learning_rate=0.014252994736691674 max_depth=5 min_child_weight =5.1789570687327044 num_class=7 objective=multi:softprob seed=993077\n",
      "  0%|▏                                              | 14/5000 [00:55<5:31:41,  3.99s/it, best loss: 1.1574265840204827]"
     ]
    },
    {
     "name": "stderr",
     "output_type": "stream",
     "text": [
      "C:\\ProgramData\\Anaconda3\\lib\\site-packages\\sklearn\\model_selection\\_split.py:657: Warning: The least populated class in y has only 3 members, which is too few. The minimum number of members in any class cannot be less than n_splits=5.\n",
      "  % (min_groups, self.n_splits)), Warning)\n",
      "\n"
     ]
    },
    {
     "name": "stdout",
     "output_type": "stream",
     "text": [
      "[0]\ttrain-mlogloss:1.91739\ttest-mlogloss:1.91815                                                                       \n",
      "\n",
      "[9]\ttrain-mlogloss:1.70393\ttest-mlogloss:1.71028                                                                       \n",
      "\n",
      "CV finished n_rounds=10 cv_score=1.71028                                                                               \n",
      "valid score=1.7125911368426439                                                                                         \n",
      "                                                                                                                       \n",
      "XGBoost objective call #16 cur_best_score=1.15743\n",
      "Params:                                                                                                                \n",
      "alpha=4.5131716576677504e-05 booster =gbtree eval_metric=mlogloss lambda=7.531468401750147e-05 learning_rate=0.03003830076340394 max_depth=6 min_child_weight =1.0952364351307793 num_class=7 objective=multi:softprob seed=1823869\n",
      "  0%|▏                                              | 15/5000 [01:00<5:42:09,  4.12s/it, best loss: 1.1574265840204827]"
     ]
    },
    {
     "name": "stderr",
     "output_type": "stream",
     "text": [
      "C:\\ProgramData\\Anaconda3\\lib\\site-packages\\sklearn\\model_selection\\_split.py:657: Warning: The least populated class in y has only 3 members, which is too few. The minimum number of members in any class cannot be less than n_splits=5.\n",
      "  % (min_groups, self.n_splits)), Warning)\n",
      "\n"
     ]
    },
    {
     "name": "stdout",
     "output_type": "stream",
     "text": [
      "[0]\ttrain-mlogloss:1.88458\ttest-mlogloss:1.88698                                                                       \n",
      "\n",
      "[9]\ttrain-mlogloss:1.4964\ttest-mlogloss:1.51461                                                                        \n",
      "\n",
      "CV finished n_rounds=10 cv_score=1.51461                                                                               \n",
      "valid score=1.5189010002841687                                                                                         \n",
      "                                                                                                                       \n",
      "XGBoost objective call #17 cur_best_score=1.15743\n",
      "Params:                                                                                                                \n",
      "alpha=6.371946560318822e-05 booster =gbtree eval_metric=mlogloss lambda=3.458189809738093e-05 learning_rate=0.006671887733074994 max_depth=4 min_child_weight =2.094278942748599 num_class=7 objective=multi:softprob seed=535114\n",
      "  0%|▏                                              | 16/5000 [01:05<6:11:20,  4.47s/it, best loss: 1.1574265840204827]"
     ]
    },
    {
     "name": "stderr",
     "output_type": "stream",
     "text": [
      "C:\\ProgramData\\Anaconda3\\lib\\site-packages\\sklearn\\model_selection\\_split.py:657: Warning: The least populated class in y has only 3 members, which is too few. The minimum number of members in any class cannot be less than n_splits=5.\n",
      "  % (min_groups, self.n_splits)), Warning)\n",
      "\n"
     ]
    },
    {
     "name": "stdout",
     "output_type": "stream",
     "text": [
      "[0]\ttrain-mlogloss:1.93282\ttest-mlogloss:1.93301                                                                       \n",
      "\n",
      "[9]\ttrain-mlogloss:1.82522\ttest-mlogloss:1.827                                                                         \n",
      "\n",
      "CV finished n_rounds=10 cv_score=1.82700                                                                               \n",
      "valid score=1.8283990401540975                                                                                         \n",
      "                                                                                                                       \n",
      "XGBoost objective call #18 cur_best_score=1.15743\n",
      "Params:                                                                                                                \n",
      "alpha=1.742694083445424e-05 booster =gbtree eval_metric=mlogloss lambda=5.354760363355711e-05 learning_rate=0.008983570839319267 max_depth=4 min_child_weight =6.775210114173574 num_class=7 objective=multi:softprob seed=785192\n",
      "  0%|▏                                              | 17/5000 [01:09<5:54:46,  4.27s/it, best loss: 1.1574265840204827]"
     ]
    },
    {
     "name": "stderr",
     "output_type": "stream",
     "text": [
      "C:\\ProgramData\\Anaconda3\\lib\\site-packages\\sklearn\\model_selection\\_split.py:657: Warning: The least populated class in y has only 3 members, which is too few. The minimum number of members in any class cannot be less than n_splits=5.\n",
      "  % (min_groups, self.n_splits)), Warning)\n",
      "\n"
     ]
    },
    {
     "name": "stdout",
     "output_type": "stream",
     "text": [
      "[0]\ttrain-mlogloss:1.9283\ttest-mlogloss:1.92856                                                                        \n",
      "\n",
      "[9]\ttrain-mlogloss:1.78767\ttest-mlogloss:1.79002                                                                       \n",
      "\n",
      "CV finished n_rounds=10 cv_score=1.79002                                                                               \n",
      "valid score=1.7918046101358354                                                                                         \n",
      "                                                                                                                       \n",
      "XGBoost objective call #19 cur_best_score=1.15743\n",
      "Params:                                                                                                                \n",
      "alpha=1.705560074497829e-05 booster =gbtree eval_metric=mlogloss lambda=3.6493999995883955e-05 learning_rate=0.00910604689794606 max_depth=6 min_child_weight =2.419738537208264 num_class=7 objective=multi:softprob seed=1715285\n",
      "  0%|▏                                              | 18/5000 [01:12<5:34:25,  4.03s/it, best loss: 1.1574265840204827]"
     ]
    },
    {
     "name": "stderr",
     "output_type": "stream",
     "text": [
      "C:\\ProgramData\\Anaconda3\\lib\\site-packages\\sklearn\\model_selection\\_split.py:657: Warning: The least populated class in y has only 3 members, which is too few. The minimum number of members in any class cannot be less than n_splits=5.\n",
      "  % (min_groups, self.n_splits)), Warning)\n",
      "\n"
     ]
    },
    {
     "name": "stdout",
     "output_type": "stream",
     "text": [
      "[0]\ttrain-mlogloss:1.9272\ttest-mlogloss:1.92793                                                                        \n",
      "\n",
      "[9]\ttrain-mlogloss:1.7783\ttest-mlogloss:1.7847                                                                         \n",
      "\n",
      "CV finished n_rounds=10 cv_score=1.78470                                                                               \n",
      "valid score=1.7869170946273858                                                                                         \n",
      "                                                                                                                       \n",
      "XGBoost objective call #20 cur_best_score=1.15743\n",
      "Params:                                                                                                                \n",
      "alpha=9.537660681822213e-05 booster =gbtree eval_metric=mlogloss lambda=7.805729326766401e-05 learning_rate=0.008781866101849509 max_depth=4 min_child_weight =1.2823302413569 num_class=7 objective=multi:softprob seed=1055493\n",
      "  0%|▏                                              | 19/5000 [01:17<5:56:31,  4.29s/it, best loss: 1.1574265840204827]"
     ]
    },
    {
     "name": "stderr",
     "output_type": "stream",
     "text": [
      "C:\\ProgramData\\Anaconda3\\lib\\site-packages\\sklearn\\model_selection\\_split.py:657: Warning: The least populated class in y has only 3 members, which is too few. The minimum number of members in any class cannot be less than n_splits=5.\n",
      "  % (min_groups, self.n_splits)), Warning)\n",
      "\n"
     ]
    },
    {
     "name": "stdout",
     "output_type": "stream",
     "text": [
      "[0]\ttrain-mlogloss:1.92869\ttest-mlogloss:1.92895                                                                       \n",
      "\n",
      "[9]\ttrain-mlogloss:1.79087\ttest-mlogloss:1.79316                                                                       \n",
      "\n",
      "CV finished n_rounds=10 cv_score=1.79316                                                                               \n",
      "valid score=1.7949236962721342                                                                                         \n",
      "  0%|▏                                              | 20/5000 [01:20<5:25:38,  3.92s/it, best loss: 1.1574265840204827]\n"
     ]
    },
    {
     "ename": "AssertionError",
     "evalue": "",
     "output_type": "error",
     "traceback": [
      "\u001b[1;31m---------------------------------------------------------------------------\u001b[0m",
      "\u001b[1;31mAssertionError\u001b[0m                            Traceback (most recent call last)",
      "\u001b[1;32m<ipython-input-126-2c515ec90696>\u001b[0m in \u001b[0;36m<module>\u001b[1;34m\u001b[0m\n\u001b[0;32m    176\u001b[0m                      \u001b[0mmax_evals\u001b[0m\u001b[1;33m=\u001b[0m\u001b[0mN_HYPEROPT_PROBES\u001b[0m\u001b[1;33m,\u001b[0m\u001b[1;33m\u001b[0m\u001b[1;33m\u001b[0m\u001b[0m\n\u001b[0;32m    177\u001b[0m                      \u001b[0mtrials\u001b[0m\u001b[1;33m=\u001b[0m\u001b[0mtrials\u001b[0m\u001b[1;33m,\u001b[0m\u001b[1;33m\u001b[0m\u001b[1;33m\u001b[0m\u001b[0m\n\u001b[1;32m--> 178\u001b[1;33m                      verbose=1)\n\u001b[0m\u001b[0;32m    179\u001b[0m \u001b[1;33m\u001b[0m\u001b[0m\n\u001b[0;32m    180\u001b[0m \u001b[0mprint\u001b[0m\u001b[1;33m(\u001b[0m\u001b[1;34m'-'\u001b[0m\u001b[1;33m*\u001b[0m\u001b[1;36m50\u001b[0m\u001b[1;33m)\u001b[0m\u001b[1;33m\u001b[0m\u001b[1;33m\u001b[0m\u001b[0m\n",
      "\u001b[1;32mC:\\ProgramData\\Anaconda3\\lib\\site-packages\\hyperopt\\fmin.py\u001b[0m in \u001b[0;36mfmin\u001b[1;34m(fn, space, algo, max_evals, trials, rstate, allow_trials_fmin, pass_expr_memo_ctrl, catch_eval_exceptions, verbose, return_argmin, points_to_evaluate, max_queue_len, show_progressbar)\u001b[0m\n\u001b[0;32m    386\u001b[0m             \u001b[0mcatch_eval_exceptions\u001b[0m\u001b[1;33m=\u001b[0m\u001b[0mcatch_eval_exceptions\u001b[0m\u001b[1;33m,\u001b[0m\u001b[1;33m\u001b[0m\u001b[1;33m\u001b[0m\u001b[0m\n\u001b[0;32m    387\u001b[0m             \u001b[0mreturn_argmin\u001b[0m\u001b[1;33m=\u001b[0m\u001b[0mreturn_argmin\u001b[0m\u001b[1;33m,\u001b[0m\u001b[1;33m\u001b[0m\u001b[1;33m\u001b[0m\u001b[0m\n\u001b[1;32m--> 388\u001b[1;33m             \u001b[0mshow_progressbar\u001b[0m\u001b[1;33m=\u001b[0m\u001b[0mshow_progressbar\u001b[0m\u001b[1;33m,\u001b[0m\u001b[1;33m\u001b[0m\u001b[1;33m\u001b[0m\u001b[0m\n\u001b[0m\u001b[0;32m    389\u001b[0m         )\n\u001b[0;32m    390\u001b[0m \u001b[1;33m\u001b[0m\u001b[0m\n",
      "\u001b[1;32mC:\\ProgramData\\Anaconda3\\lib\\site-packages\\hyperopt\\base.py\u001b[0m in \u001b[0;36mfmin\u001b[1;34m(self, fn, space, algo, max_evals, rstate, verbose, pass_expr_memo_ctrl, catch_eval_exceptions, return_argmin, show_progressbar)\u001b[0m\n\u001b[0;32m    637\u001b[0m             \u001b[0mcatch_eval_exceptions\u001b[0m\u001b[1;33m=\u001b[0m\u001b[0mcatch_eval_exceptions\u001b[0m\u001b[1;33m,\u001b[0m\u001b[1;33m\u001b[0m\u001b[1;33m\u001b[0m\u001b[0m\n\u001b[0;32m    638\u001b[0m             \u001b[0mreturn_argmin\u001b[0m\u001b[1;33m=\u001b[0m\u001b[0mreturn_argmin\u001b[0m\u001b[1;33m,\u001b[0m\u001b[1;33m\u001b[0m\u001b[1;33m\u001b[0m\u001b[0m\n\u001b[1;32m--> 639\u001b[1;33m             show_progressbar=show_progressbar)\n\u001b[0m\u001b[0;32m    640\u001b[0m \u001b[1;33m\u001b[0m\u001b[0m\n\u001b[0;32m    641\u001b[0m \u001b[1;33m\u001b[0m\u001b[0m\n",
      "\u001b[1;32mC:\\ProgramData\\Anaconda3\\lib\\site-packages\\hyperopt\\fmin.py\u001b[0m in \u001b[0;36mfmin\u001b[1;34m(fn, space, algo, max_evals, trials, rstate, allow_trials_fmin, pass_expr_memo_ctrl, catch_eval_exceptions, verbose, return_argmin, points_to_evaluate, max_queue_len, show_progressbar)\u001b[0m\n\u001b[0;32m    405\u001b[0m                     show_progressbar=show_progressbar)\n\u001b[0;32m    406\u001b[0m     \u001b[0mrval\u001b[0m\u001b[1;33m.\u001b[0m\u001b[0mcatch_eval_exceptions\u001b[0m \u001b[1;33m=\u001b[0m \u001b[0mcatch_eval_exceptions\u001b[0m\u001b[1;33m\u001b[0m\u001b[1;33m\u001b[0m\u001b[0m\n\u001b[1;32m--> 407\u001b[1;33m     \u001b[0mrval\u001b[0m\u001b[1;33m.\u001b[0m\u001b[0mexhaust\u001b[0m\u001b[1;33m(\u001b[0m\u001b[1;33m)\u001b[0m\u001b[1;33m\u001b[0m\u001b[1;33m\u001b[0m\u001b[0m\n\u001b[0m\u001b[0;32m    408\u001b[0m     \u001b[1;32mif\u001b[0m \u001b[0mreturn_argmin\u001b[0m\u001b[1;33m:\u001b[0m\u001b[1;33m\u001b[0m\u001b[1;33m\u001b[0m\u001b[0m\n\u001b[0;32m    409\u001b[0m         \u001b[1;32mreturn\u001b[0m \u001b[0mtrials\u001b[0m\u001b[1;33m.\u001b[0m\u001b[0margmin\u001b[0m\u001b[1;33m\u001b[0m\u001b[1;33m\u001b[0m\u001b[0m\n",
      "\u001b[1;32mC:\\ProgramData\\Anaconda3\\lib\\site-packages\\hyperopt\\fmin.py\u001b[0m in \u001b[0;36mexhaust\u001b[1;34m(self)\u001b[0m\n\u001b[0;32m    260\u001b[0m     \u001b[1;32mdef\u001b[0m \u001b[0mexhaust\u001b[0m\u001b[1;33m(\u001b[0m\u001b[0mself\u001b[0m\u001b[1;33m)\u001b[0m\u001b[1;33m:\u001b[0m\u001b[1;33m\u001b[0m\u001b[1;33m\u001b[0m\u001b[0m\n\u001b[0;32m    261\u001b[0m         \u001b[0mn_done\u001b[0m \u001b[1;33m=\u001b[0m \u001b[0mlen\u001b[0m\u001b[1;33m(\u001b[0m\u001b[0mself\u001b[0m\u001b[1;33m.\u001b[0m\u001b[0mtrials\u001b[0m\u001b[1;33m)\u001b[0m\u001b[1;33m\u001b[0m\u001b[1;33m\u001b[0m\u001b[0m\n\u001b[1;32m--> 262\u001b[1;33m         \u001b[0mself\u001b[0m\u001b[1;33m.\u001b[0m\u001b[0mrun\u001b[0m\u001b[1;33m(\u001b[0m\u001b[0mself\u001b[0m\u001b[1;33m.\u001b[0m\u001b[0mmax_evals\u001b[0m \u001b[1;33m-\u001b[0m \u001b[0mn_done\u001b[0m\u001b[1;33m,\u001b[0m \u001b[0mblock_until_done\u001b[0m\u001b[1;33m=\u001b[0m\u001b[0mself\u001b[0m\u001b[1;33m.\u001b[0m\u001b[0masynchronous\u001b[0m\u001b[1;33m)\u001b[0m\u001b[1;33m\u001b[0m\u001b[1;33m\u001b[0m\u001b[0m\n\u001b[0m\u001b[0;32m    263\u001b[0m         \u001b[0mself\u001b[0m\u001b[1;33m.\u001b[0m\u001b[0mtrials\u001b[0m\u001b[1;33m.\u001b[0m\u001b[0mrefresh\u001b[0m\u001b[1;33m(\u001b[0m\u001b[1;33m)\u001b[0m\u001b[1;33m\u001b[0m\u001b[1;33m\u001b[0m\u001b[0m\n\u001b[0;32m    264\u001b[0m         \u001b[1;32mreturn\u001b[0m \u001b[0mself\u001b[0m\u001b[1;33m\u001b[0m\u001b[1;33m\u001b[0m\u001b[0m\n",
      "\u001b[1;32mC:\\ProgramData\\Anaconda3\\lib\\site-packages\\hyperopt\\fmin.py\u001b[0m in \u001b[0;36mrun\u001b[1;34m(self, N, block_until_done)\u001b[0m\n\u001b[0;32m    209\u001b[0m                                                           d['result'].get('status')))\n\u001b[0;32m    210\u001b[0m                         new_trials = algo(new_ids, self.domain, trials,\n\u001b[1;32m--> 211\u001b[1;33m                                           self.rstate.randint(2 ** 31 - 1))\n\u001b[0m\u001b[0;32m    212\u001b[0m                         \u001b[1;32massert\u001b[0m \u001b[0mlen\u001b[0m\u001b[1;33m(\u001b[0m\u001b[0mnew_ids\u001b[0m\u001b[1;33m)\u001b[0m \u001b[1;33m>=\u001b[0m \u001b[0mlen\u001b[0m\u001b[1;33m(\u001b[0m\u001b[0mnew_trials\u001b[0m\u001b[1;33m)\u001b[0m\u001b[1;33m\u001b[0m\u001b[1;33m\u001b[0m\u001b[0m\n\u001b[0;32m    213\u001b[0m                         \u001b[1;32mif\u001b[0m \u001b[0mlen\u001b[0m\u001b[1;33m(\u001b[0m\u001b[0mnew_trials\u001b[0m\u001b[1;33m)\u001b[0m\u001b[1;33m:\u001b[0m\u001b[1;33m\u001b[0m\u001b[1;33m\u001b[0m\u001b[0m\n",
      "\u001b[1;32mC:\\ProgramData\\Anaconda3\\lib\\site-packages\\hyperopt\\tpe.py\u001b[0m in \u001b[0;36msuggest\u001b[1;34m(new_ids, domain, trials, seed, prior_weight, n_startup_jobs, n_EI_candidates, gamma, linear_forgetting)\u001b[0m\n\u001b[0;32m    898\u001b[0m \u001b[1;33m\u001b[0m\u001b[0m\n\u001b[0;32m    899\u001b[0m     idxs, vals = pyll.rec_eval([opt_idxs, opt_vals], memo=memo,\n\u001b[1;32m--> 900\u001b[1;33m                                print_node_on_error=False)\n\u001b[0m\u001b[0;32m    901\u001b[0m \u001b[1;33m\u001b[0m\u001b[0m\n\u001b[0;32m    902\u001b[0m     \u001b[1;31m# -- retrieve the best of the samples and form the return tuple\u001b[0m\u001b[1;33m\u001b[0m\u001b[1;33m\u001b[0m\u001b[1;33m\u001b[0m\u001b[0m\n",
      "\u001b[1;32mC:\\ProgramData\\Anaconda3\\lib\\site-packages\\hyperopt\\pyll\\base.py\u001b[0m in \u001b[0;36mrec_eval\u001b[1;34m(expr, deepcopy_inputs, memo, max_program_len, memo_gc, print_trace, print_node_on_error)\u001b[0m\n\u001b[0;32m    911\u001b[0m \u001b[1;33m\u001b[0m\u001b[0m\n\u001b[0;32m    912\u001b[0m             \u001b[1;32mtry\u001b[0m\u001b[1;33m:\u001b[0m\u001b[1;33m\u001b[0m\u001b[1;33m\u001b[0m\u001b[0m\n\u001b[1;32m--> 913\u001b[1;33m                 \u001b[0mrval\u001b[0m \u001b[1;33m=\u001b[0m \u001b[0mscope\u001b[0m\u001b[1;33m.\u001b[0m\u001b[0m_impls\u001b[0m\u001b[1;33m[\u001b[0m\u001b[0mnode\u001b[0m\u001b[1;33m.\u001b[0m\u001b[0mname\u001b[0m\u001b[1;33m]\u001b[0m\u001b[1;33m(\u001b[0m\u001b[1;33m*\u001b[0m\u001b[0margs\u001b[0m\u001b[1;33m,\u001b[0m \u001b[1;33m**\u001b[0m\u001b[0mkwargs\u001b[0m\u001b[1;33m)\u001b[0m\u001b[1;33m\u001b[0m\u001b[1;33m\u001b[0m\u001b[0m\n\u001b[0m\u001b[0;32m    914\u001b[0m \u001b[1;33m\u001b[0m\u001b[0m\n\u001b[0;32m    915\u001b[0m             \u001b[1;32mexcept\u001b[0m \u001b[0mException\u001b[0m \u001b[1;32mas\u001b[0m \u001b[0me\u001b[0m\u001b[1;33m:\u001b[0m\u001b[1;33m\u001b[0m\u001b[1;33m\u001b[0m\u001b[0m\n",
      "\u001b[1;32mC:\\ProgramData\\Anaconda3\\lib\\site-packages\\hyperopt\\tpe.py\u001b[0m in \u001b[0;36madaptive_parzen_normal\u001b[1;34m(mus, prior_weight, prior_mu, prior_sigma, LF)\u001b[0m\n\u001b[0;32m    463\u001b[0m \u001b[1;33m\u001b[0m\u001b[0m\n\u001b[0;32m    464\u001b[0m     \u001b[0msigma\u001b[0m\u001b[1;33m[\u001b[0m\u001b[0mprior_pos\u001b[0m\u001b[1;33m]\u001b[0m \u001b[1;33m=\u001b[0m \u001b[0mprior_sigma\u001b[0m\u001b[1;33m\u001b[0m\u001b[1;33m\u001b[0m\u001b[0m\n\u001b[1;32m--> 465\u001b[1;33m     \u001b[1;32massert\u001b[0m \u001b[0mprior_sigma\u001b[0m \u001b[1;33m>\u001b[0m \u001b[1;36m0\u001b[0m\u001b[1;33m\u001b[0m\u001b[1;33m\u001b[0m\u001b[0m\n\u001b[0m\u001b[0;32m    466\u001b[0m     \u001b[1;32massert\u001b[0m \u001b[0mmaxsigma\u001b[0m \u001b[1;33m>\u001b[0m \u001b[1;36m0\u001b[0m\u001b[1;33m\u001b[0m\u001b[1;33m\u001b[0m\u001b[0m\n\u001b[0;32m    467\u001b[0m     \u001b[1;32massert\u001b[0m \u001b[0mminsigma\u001b[0m \u001b[1;33m>\u001b[0m \u001b[1;36m0\u001b[0m\u001b[1;33m\u001b[0m\u001b[1;33m\u001b[0m\u001b[0m\n",
      "\u001b[1;31mAssertionError\u001b[0m: "
     ]
    }
   ],
   "source": [
    "###Hyper opt XGB\n",
    "import xgboost as xgb\n",
    "import pandas as pd\n",
    "import numpy as np\n",
    "from uuid import uuid4\n",
    "from sys import exit\n",
    "from hyperopt.pyll.base import scope\n",
    "from hyperopt.pyll.stochastic import sample\n",
    "from hyperopt import STATUS_OK, Trials, fmin, hp, tpe\n",
    "import random\n",
    "from sklearn.model_selection import train_test_split\n",
    "from sklearn.metrics import roc_auc_score, roc_curve, auc,log_loss\n",
    "from sklearn.model_selection import GridSearchCV\n",
    "from sklearn.model_selection import StratifiedShuffleSplit\n",
    "\n",
    "\n",
    "#from sklearn import metrics\n",
    "\n",
    "# stratSplit = StratifiedShuffleSplit(new_y, test_size=0.25, random_state=42)\n",
    "# for train_idx, test_idx in stratSplit.split:\n",
    "#     X_train=X[train_idx]\n",
    "#     y_train=y[train_idx]\n",
    "#     X_val=X[test_idx]\n",
    "#     y_val = y[test_idx]\n",
    "X_train, X_val, y_train, y_val = train_test_split(X, new_y, random_state=42, test_size=0.25,stratify=new_y)\n",
    "\n",
    "#print(y_train.value_counts())\n",
    "#print(y_val.value_counts())\n",
    "\n",
    "num_train, num_feature = X_train.shape\n",
    "\n",
    "xgb_train = xgb.DMatrix(X_train.values, y_train.values)\n",
    "xgb_eval  = xgb.DMatrix(X_val.values, y_val.values)\n",
    "\n",
    "\n",
    "x_features = X.columns\n",
    "test= test_data_pre[x_features]\n",
    "\n",
    "xgb_test   = xgb.DMatrix(test.values)\n",
    "\n",
    "\n",
    "\n",
    "\n",
    "import itertools\n",
    "N_HYPEROPT_PROBES = 5000 #change to 5000\n",
    "EARLY_STOPPING = 80 #change to 80\n",
    "HOLDOUT_SEED = 123456\n",
    "HOLDOUT_SIZE = 0.10\n",
    "HYPEROPT_ALGO = tpe.suggest  #  tpe.suggest OR hyperopt.rand.suggest\n",
    "SEED0 = random.randint(1,1000000000)\n",
    "NB_CV_FOLDS = 5 #chagne to 5\n",
    "\n",
    "obj_call_count = 0\n",
    "cur_best_score = 1.80\n",
    "\n",
    "import sklearn\n",
    "\n",
    "def objective(space):\n",
    "    \n",
    "    global obj_call_count, cur_best_score, X_train, y_train, test, X_val, y_val\n",
    "\n",
    "    \n",
    "    obj_call_count += 1\n",
    "    print('\\nXGBoost objective call #{} cur_best_score={:7.5f}'.format(obj_call_count,cur_best_score) )\n",
    "\n",
    "    sorted_params = sorted(space.items(), key=lambda z: z[0])\n",
    "    print('Params:', str.join(' ', ['{}={}'.format(k, v) for k, v in sorted_params if not k.startswith('column:')]))\n",
    "\n",
    "\n",
    "    xgb_params = sample(space)\n",
    "       \n",
    "    \n",
    "    mdl = xgb.cv(\n",
    "                        xgb_params,\n",
    "                        xgb_train,\n",
    "                        num_boost_round = 10,##change to 750,\n",
    "                        nfold=NB_CV_FOLDS,\n",
    "                        #metrics='binary_logloss',\n",
    "                        stratified=True,\n",
    "                        #fobj=None,\n",
    "                        #feval=None,\n",
    "                        #init_model=None,\n",
    "                        #feature_name='auto',\n",
    "                        early_stopping_rounds=EARLY_STOPPING,\n",
    "                        #fpreproc=None,\n",
    "                        verbose_eval=100,\n",
    "                        show_stdv=False,\n",
    "                        )\n",
    "\n",
    "           \n",
    "    #print('mdl : ',mdl)\n",
    "    n_rounds = len(mdl[\"test-mlogloss-mean\"])\n",
    "    cv_score = mdl[\"test-mlogloss-mean\"][n_rounds-1]\n",
    "\n",
    "    print( 'CV finished n_rounds={} cv_score={:7.5f}'.format( n_rounds, cv_score ) )\n",
    "    \n",
    "    gbm_model = xgb.train(\n",
    "                        xgb_params,\n",
    "                        xgb_train,\n",
    "                        num_boost_round=n_rounds,\n",
    "                        #metrics='mlogloss',\n",
    "                        # valid_names=None,\n",
    "                        # fobj=None,\n",
    "                        # init_model=None,\n",
    "                        # feature_name='auto',\n",
    "                        # categorical_feature='auto',\n",
    "                        # early_stopping_rounds=None,\n",
    "                        # evals_result=None,\n",
    "                        verbose_eval=False\n",
    "                        # learning_rates=None,\n",
    "                        # keep_training_booster=False,\n",
    "                        # callbacks=None)\n",
    "                         )\n",
    "    \n",
    "    predictions = gbm_model.predict(xgb_eval,\n",
    "                                    ntree_limit =n_rounds)\n",
    "    \n",
    "    score = log_loss(y_val, predictions)\n",
    "    print('valid score={}'.format(score))\n",
    "    \n",
    "    \n",
    "    do_submit = False\n",
    "\n",
    "    if score < cur_best_score:\n",
    "        cur_best_score = score\n",
    "        print('NEW BEST SCORE={}'.format(cur_best_score))\n",
    "        do_submit = True\n",
    "\n",
    "    if do_submit:\n",
    "        do_submit=False\n",
    "        submit_guid = uuid4()\n",
    "\n",
    "        print('Compute submissions guid={}'.format(submit_guid))\n",
    "\n",
    "        y_submission = gbm_model.predict(xgb_test, ntree_limit = n_rounds)\n",
    "        \n",
    "        submission_filename = 'xg_submission/xgboost_score={:13.11f}_submission_guid={}.xlsx'.format(score,submit_guid)\n",
    "        df = pd.DataFrame()\n",
    "        y_submission_2 = []\n",
    "#         print(type(y_submission))\n",
    "#         print(y_submission[0])\n",
    "        for pred in y_submission:\n",
    "            y_submission_2.append(np.argmax(pred))\n",
    "            #print(np.argmax(pred))\n",
    "        df['Delivery_Time'] = y_submission_2\n",
    "        #df['Delivery_Time'] = df['Delivery_Time'].apply(lambda x :label_dic[x])\n",
    "        df.to_excel(submission_filename, index=False)\n",
    "       \n",
    "    loss = score\n",
    "    #loss = metrics.log_loss(y, dtrainPredProb)\n",
    "    return {'loss': loss, 'status': STATUS_OK}\n",
    "\n",
    "\n",
    "space ={\n",
    "    'booster '    : 'gbtree',  \n",
    "    #'num_class' : '6',\n",
    "    'objective'   : 'multi:softprob',\n",
    "    'eval_metric' : 'mlogloss',\n",
    "    #'num_class' : (0,6],\n",
    "    'max_depth'   : hp.choice(\"max_depth\",        np.arange(4, 7,    dtype=int)),  \n",
    "   \n",
    "    'alpha'       : hp.uniform('alpha', 1e-4, 1e-6 ),\n",
    "    'lambda'      : hp.uniform('lambda', 1e-4, 1e-6 ),\n",
    "    \n",
    "    'min_child_weight ': hp.loguniform('min_sum_hessian_in_leaf', 0, 2.3),\n",
    "    'learning_rate'    : hp.loguniform('learning_rate', -6.9, -2.3),\n",
    "    \n",
    "    'seed'             : hp.randint('seed',2000000),\n",
    "    'num_class' : 7\n",
    "   }\n",
    "\n",
    "trials = Trials()\n",
    "best = fmin(fn=objective,\n",
    "                     space=space,\n",
    "                     algo=HYPEROPT_ALGO,\n",
    "                     max_evals=N_HYPEROPT_PROBES,\n",
    "                     trials=trials,\n",
    "                     verbose=1)\n",
    "\n",
    "print('-'*50)\n",
    "print('The best params:')\n",
    "print( best )\n",
    "print('\\n\\n')"
   ]
  },
  {
   "cell_type": "code",
   "execution_count": 76,
   "metadata": {},
   "outputs": [
    {
     "data": {
      "text/plain": [
       "(2774, 121)"
      ]
     },
     "execution_count": 76,
     "metadata": {},
     "output_type": "execute_result"
    }
   ],
   "source": [
    "test_data_pre.shape"
   ]
  },
  {
   "cell_type": "code",
   "execution_count": 233,
   "metadata": {},
   "outputs": [
    {
     "data": {
      "text/plain": [
       "XGBClassifier(base_score=0.5, booster='gbtree', colsample_bylevel=1,\n",
       "              colsample_bynode=1, colsample_bytree=1, gamma=0,\n",
       "              learning_rate=0.1, max_delta_step=0, max_depth=3,\n",
       "              min_child_weight=1, missing=None, n_estimators=100, n_jobs=1,\n",
       "              nthread=None, objective='multi:softprob', random_state=0,\n",
       "              reg_alpha=0, reg_lambda=1, scale_pos_weight=1, seed=None,\n",
       "              silent=None, subsample=1, verbosity=1)"
      ]
     },
     "execution_count": 233,
     "metadata": {},
     "output_type": "execute_result"
    }
   ],
   "source": [
    "import xgboost as xgb\n",
    "exgb_classifier = xgb.XGBClassifier()\n",
    "exgb_classifier.fit(X, y)"
   ]
  },
  {
   "cell_type": "code",
   "execution_count": 234,
   "metadata": {},
   "outputs": [],
   "source": [
    "x_features = X.columns\n",
    "\n",
    "y_pred = exgb_classifier.predict(test_data_pre[x_features])"
   ]
  },
  {
   "cell_type": "code",
   "execution_count": 235,
   "metadata": {},
   "outputs": [],
   "source": [
    "submission = pd.DataFrame()\n",
    "submission['Delivery_Time'] = y_pred"
   ]
  },
  {
   "cell_type": "code",
   "execution_count": 236,
   "metadata": {},
   "outputs": [
    {
     "data": {
      "text/plain": [
       "30 minutes     2119\n",
       "45 minutes      635\n",
       "120 minutes      10\n",
       "65 minutes        9\n",
       "80 minutes        1\n",
       "Name: Delivery_Time, dtype: int64"
      ]
     },
     "execution_count": 236,
     "metadata": {},
     "output_type": "execute_result"
    }
   ],
   "source": [
    "submission.Delivery_Time.value_counts()"
   ]
  },
  {
   "cell_type": "code",
   "execution_count": 237,
   "metadata": {},
   "outputs": [],
   "source": [
    "submission.to_excel('submission_3.xlsx',index=False)"
   ]
  },
  {
   "cell_type": "code",
   "execution_count": null,
   "metadata": {},
   "outputs": [],
   "source": []
  }
 ],
 "metadata": {
  "kernelspec": {
   "display_name": "Python 3",
   "language": "python",
   "name": "python3"
  },
  "language_info": {
   "codemirror_mode": {
    "name": "ipython",
    "version": 3
   },
   "file_extension": ".py",
   "mimetype": "text/x-python",
   "name": "python",
   "nbconvert_exporter": "python",
   "pygments_lexer": "ipython3",
   "version": "3.7.3"
  }
 },
 "nbformat": 4,
 "nbformat_minor": 2
}
